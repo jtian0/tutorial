{
 "cells": [
  {
   "cell_type": "markdown",
   "metadata": {},
   "source": [
    "# Get Started\n",
    "\n",
    "Matplotlib originates from Matlab's plot by its name, and APIs are largely shared if with `from matplotlib.pyplot import *`. In practice\n",
    "\n",
    "1. We use `import matplotlib.pyplot as plt` to retain the namespace.\n",
    "2. We use axis-based (`ax`) API rather than Matlab-command style.\n",
    "\n",
    "An minimum working `ax` example is give below\n",
    "\n",
    "```python\n",
    "import matplotlib.pyplot as plt\n",
    "\n",
    "fig, ax = plt.subplots()\n",
    "ax.plot([1,2,3,4,5], [2,3,4,5,6]) # arg1: x, arg2: y \n",
    "```\n",
    "\n",
    "Notice\n",
    "\n",
    "- Even with 1 plot, we use `subplots`.\n",
    "- `ax` as the handle (context) can be passed to user-defined function.\n",
    "\n",
    "Also notice\n",
    "\n",
    "- There is only figure printing on screen, not saved as a file.\n",
    "- It is also in bad shape (will explain below).\n",
    "- Also it does not include real data to plot."
   ]
  },
  {
   "cell_type": "markdown",
   "metadata": {},
   "source": [
    "# Prepare Data\n",
    "\n",
    "- Put data in csv (comma-separated) or tsv (tab-seprated), e.g., exported from Excel.\n",
    "- Read using py-pandas\n",
    "\n",
    "```python\n",
    "import pandas as pd\n",
    "data = pd.from_csv(filename)\n",
    "# data = pd.from_csv(filename, sep='\\t') # if tsv\n",
    "\n",
    "Then iterate data by column or row for plotting."
   ]
  },
  {
   "cell_type": "markdown",
   "metadata": {},
   "source": [
    "# Boilerplate\n",
    "\n",
    "```python\n",
    "## prepare zone\n",
    "colors = [...]\n",
    "markers = [...]\n",
    "hatches = [...]\n",
    "subplot_names = [...]\n",
    "\n",
    "## plotting zone\n",
    "fig, axs = fig.subplots(nrows=NROW, ncols=NCOL, figsize=(6, 4))\n",
    "\n",
    "for i, (ax, c, m, h, n) in enumerate(zip(axs.flat, colors, markers, hatches, subplot_names)):\n",
    "    ax.PLOTTING_FUNCTION(...)\n",
    "    ax.set_xlabel(\"x-label\")\n",
    "    ax.set_ylabel(\"y-label\")\n",
    "    ax.grid(color='lightgray',lw=0.75)\n",
    "    ax.set_title(n)\n",
    "    ax.set_xlim((lowerx, upperx))\n",
    "    ax.set_ylim((lowery, uppery))\n",
    "\n",
    "fig.tight_layout()\n",
    "fig.savefig(\"output_name.pdf\", dpi=300, transparent=True)\n",
    "```"
   ]
  },
  {
   "cell_type": "markdown",
   "metadata": {},
   "source": [
    "# Line Plots\n",
    "\n",
    "```python\n",
    "\n",
    "```"
   ]
  },
  {
   "cell_type": "markdown",
   "metadata": {},
   "source": [
    "# Enhancement\n",
    "\n",
    "## Use shared axis range, axis label, and legend\n",
    "\n",
    "## Put the shared legend out of axes"
   ]
  },
  {
   "cell_type": "markdown",
   "metadata": {},
   "source": [
    "# Change ALL matplotlib defaults\n",
    "\n",
    "The default configurations of matplotlib makes it impractical for high-quallity presentation in an academic paper, both functionally and aethetically.\n",
    "\n",
    "##  Bad Sizing\n",
    "\n",
    "- defect: unreadable in real paper.\n",
    "- solution: change to 6in for single column (in a double-column paper) or 12in for spanning double columns.\n",
    "- comment: the 6/12in disregards the paper column seperation; it is mostly not noticeable, however.\n",
    "- code snippet `fig, ax = plt.subplots(..., figsize=(12, HEIGHT))`\n",
    "\n",
    "\n",
    "## Displeasing Colorpalette\n",
    "\n",
    "- defect: horrifyingly low in readability.\n",
    "- solution: define on your own.\n",
    "- Prioritize to conider less numbers of colors and less saturated colors in order to highlight your work in the plot.\n",
    "- Examples: think of French and Germany flags.\n",
    "\n",
    "## Ugly Typeface\n",
    "\n",
    "- defect: an unpolished sense\n",
    "- solution 1: change to Helvetica. No one loses job by using Helvetica.\n",
    "\n",
    "```python\n",
    "plt.rcParams.update({\n",
    "    \"font.family\": \"Helvetica\"\n",
    "})\n",
    "```\n",
    "\n",
    "- solution 2: also consider using $\\LaTeX$ fonts (marginnally increasing compile time)\n",
    "\n",
    "```python\n",
    "plt.rcParams.update({\n",
    "    \"text.usetex\": True,\n",
    "    # optionally using Helvetical in LaTeX\n",
    "    # \"font.family\": \"Helvetica\" \n",
    "})\n",
    "```\n",
    "\n",
    "##  Inproper Linewidth\n",
    "\n",
    "- defect: too thick & distracting, low in readability\n",
    "- solution: consider changing linewidth to 0.75pt\n",
    "- code snippet: `plt.plot(X, Y, lw=0.75)`\n",
    "\n",
    "\n",
    "## Bad Layout/Spacing with `subplots`\n",
    "\n",
    "- defect: inefficient utilization of space\n",
    "- solution & code snippet: a must to use `.tight_layout()` after plotting and `bbox_inches='tight'` when exporting.\n",
    "\n",
    "```python\n",
    "fig.tight_layout()\n",
    "fig.save_fig(output_name, bbox_inches='tight')\n",
    "```"
   ]
  },
  {
   "cell_type": "markdown",
   "metadata": {},
   "source": [
    "# Rule of Thumbs, Retrospectively\n",
    "\n",
    "Priorities must be seriously taken to deliver professinal plots, namely\n",
    "\n",
    "1. Ensure the readability\n",
    "    1. Prioritize to use monochromic plots if possible to maximize the contrast ratio. Think of reviewer to laser-print papers to read.\n",
    "    2. Even with colorful plots, use black color.\n",
    "    3. Use less number of saturated colors (e.g., `#ff0000`, `#0000ff`); only reserve to use when highlighting one or two objects.\n",
    "    4. No rainbow color palette.\n",
    "    5. Use at least 300dpi (e.g., png) to increase clearity.\n",
    "    6. Use only one legend for a group of subplots.\n",
    "2. Increase information density.\n",
    "    1. Use less space as possible, with readability guaranteed."
   ]
  },
  {
   "cell_type": "markdown",
   "metadata": {},
   "source": []
  },
  {
   "cell_type": "markdown",
   "metadata": {},
   "source": []
  }
 ],
 "metadata": {
  "language_info": {
   "name": "python"
  }
 },
 "nbformat": 4,
 "nbformat_minor": 2
}
